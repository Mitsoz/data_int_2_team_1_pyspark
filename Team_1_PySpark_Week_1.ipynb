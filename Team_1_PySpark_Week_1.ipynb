{
 "cells": [
  {
   "cell_type": "code",
   "execution_count": 25,
   "id": "3cbf1d66",
   "metadata": {},
   "outputs": [],
   "source": [
    "import pyspark\n",
    "from pyspark.sql import SparkSession\n",
    "\n",
    "spark = SparkSession.builder.appName(\"bike\").getOrCreate()\n",
    "df = spark.read.option(\"header\",\"true\").csv(\"2017-fordgobike-tripdata.csv\")"
   ]
  },
  {
   "cell_type": "code",
   "execution_count": 26,
   "id": "a986ccad",
   "metadata": {},
   "outputs": [
    {
     "data": {
      "text/plain": [
       "pyspark.sql.dataframe.DataFrame"
      ]
     },
     "execution_count": 26,
     "metadata": {},
     "output_type": "execute_result"
    }
   ],
   "source": [
    "type(df)"
   ]
  },
  {
   "cell_type": "code",
   "execution_count": 2,
   "id": "dc6b2a39",
   "metadata": {},
   "outputs": [
    {
     "name": "stdout",
     "output_type": "stream",
     "text": [
      "root\n",
      " |-- start_time: string (nullable = true)\n",
      " |-- end_time: string (nullable = true)\n",
      " |-- start_station_id: string (nullable = true)\n",
      " |-- start_station_name: string (nullable = true)\n",
      " |-- start_station_latitude: string (nullable = true)\n",
      " |-- start_station_longitude: string (nullable = true)\n",
      " |-- end_station_id: string (nullable = true)\n",
      " |-- end_station_name: string (nullable = true)\n",
      " |-- end_station_latitude: string (nullable = true)\n",
      " |-- end_station_longitude: string (nullable = true)\n",
      " |-- bike_id: string (nullable = true)\n",
      " |-- user_type: string (nullable = true)\n",
      " |-- member_birth_year: string (nullable = true)\n",
      " |-- member_gender: string (nullable = true)\n",
      " |-- pyment: string (nullable = true)\n",
      "\n"
     ]
    }
   ],
   "source": [
    "df.printSchema()"
   ]
  },
  {
   "cell_type": "code",
   "execution_count": 2,
   "id": "70b69755",
   "metadata": {},
   "outputs": [
    {
     "name": "stdout",
     "output_type": "stream",
     "text": [
      "Collecting haversine\n",
      "  Downloading haversine-2.7.0-py2.py3-none-any.whl (6.9 kB)\n",
      "Installing collected packages: haversine\n",
      "Successfully installed haversine-2.7.0\n"
     ]
    }
   ],
   "source": [
    "# !pip install haversine"
   ]
  },
  {
   "cell_type": "markdown",
   "id": "2bc7e20f",
   "metadata": {},
   "source": [
    "<ul>\n",
    "<li>calculate distance of each trip using haversine library and add the result to the dataset</li>\n",
    "<li>calculate the duration in seconds of each trip</li>\n",
    "<li>by assuming each minute cost 0.35 cent calculate the fee for each trip</li>\n",
    "</ul>"
   ]
  },
  {
   "cell_type": "markdown",
   "id": "15aba396",
   "metadata": {},
   "source": [
    "## 1-calculate distance of each trip using haversine library and add the result to the dataset"
   ]
  },
  {
   "cell_type": "code",
   "execution_count": 6,
   "id": "02b19bb8",
   "metadata": {},
   "outputs": [
    {
     "data": {
      "text/plain": [
       "392.2172595594006"
      ]
     },
     "execution_count": 6,
     "metadata": {},
     "output_type": "execute_result"
    }
   ],
   "source": [
    "from haversine import haversine, Unit\n",
    "\n",
    "haversine([45.7597, 4.8422], [48.8567, 2.3508])"
   ]
  },
  {
   "cell_type": "code",
   "execution_count": 35,
   "id": "15122883-9d9a-49f9-bb0e-2274df985c3e",
   "metadata": {},
   "outputs": [],
   "source": [
    "import pyspark.pandas as ps\n",
    "\n",
    "def getDistance(start_lat, start_long, end_lat, end_long):\n",
    "    return round(\n",
    "        haversine(\n",
    "            [ float(start_lat), float(start_long) ],\n",
    "            [ float(end_lat), float(end_long) ],\n",
    "            unit=Unit.METERS\n",
    "        ), 2\n",
    "    )\n"
   ]
  },
  {
   "cell_type": "code",
   "execution_count": 36,
   "id": "7d786225",
   "metadata": {},
   "outputs": [],
   "source": [
    "from pyspark.sql.functions import udf\n",
    "\n",
    "getDistanceUDF = udf(lambda a,b,c,d : getDistance(a,b,c,d) )\n",
    "df = df.withColumn(\"Distance\", getDistanceUDF(df[\"start_station_latitude\"], df[\"start_station_longitude\"], df[\"end_station_latitude\"], df[\"end_station_longitude\"]))"
   ]
  },
  {
   "cell_type": "code",
   "execution_count": 37,
   "id": "a05050e7",
   "metadata": {},
   "outputs": [
    {
     "name": "stdout",
     "output_type": "stream",
     "text": [
      "root\n",
      " |-- start_time: string (nullable = true)\n",
      " |-- end_time: string (nullable = true)\n",
      " |-- start_station_id: string (nullable = true)\n",
      " |-- start_station_name: string (nullable = true)\n",
      " |-- start_station_latitude: string (nullable = true)\n",
      " |-- start_station_longitude: string (nullable = true)\n",
      " |-- end_station_id: string (nullable = true)\n",
      " |-- end_station_name: string (nullable = true)\n",
      " |-- end_station_latitude: string (nullable = true)\n",
      " |-- end_station_longitude: string (nullable = true)\n",
      " |-- bike_id: string (nullable = true)\n",
      " |-- user_type: string (nullable = true)\n",
      " |-- member_birth_year: string (nullable = true)\n",
      " |-- member_gender: string (nullable = true)\n",
      " |-- pyment: string (nullable = true)\n",
      " |-- Distance: string (nullable = true)\n",
      "\n"
     ]
    }
   ],
   "source": [
    "df.printSchema()"
   ]
  },
  {
   "cell_type": "code",
   "execution_count": 40,
   "id": "3438e470",
   "metadata": {},
   "outputs": [
    {
     "name": "stdout",
     "output_type": "stream",
     "text": [
      "+--------+\n",
      "|Distance|\n",
      "+--------+\n",
      "|  942.93|\n",
      "| 3069.73|\n",
      "|     0.0|\n",
      "| 1046.62|\n",
      "|  636.34|\n",
      "|     0.0|\n",
      "|     0.0|\n",
      "|     0.0|\n",
      "|     0.0|\n",
      "|     0.0|\n",
      "|   771.3|\n",
      "|   771.3|\n",
      "| 1517.35|\n",
      "| 1517.35|\n",
      "|  1422.6|\n",
      "| 1050.26|\n",
      "| 1050.26|\n",
      "| 2856.34|\n",
      "| 2856.34|\n",
      "| 2859.25|\n",
      "+--------+\n",
      "only showing top 20 rows\n",
      "\n"
     ]
    }
   ],
   "source": [
    "df.select(\"Distance\").show()"
   ]
  },
  {
   "cell_type": "markdown",
   "id": "04a5f606",
   "metadata": {},
   "source": [
    "## 2-calculate the duration in seconds of each trip"
   ]
  },
  {
   "cell_type": "code",
   "execution_count": 73,
   "id": "5f94da52-13a7-4add-891b-49e1abd2d26a",
   "metadata": {},
   "outputs": [
    {
     "name": "stdout",
     "output_type": "stream",
     "text": [
      "+-------------------+-------------------+--------+\n",
      "|          starttime|            endtime|duration|\n",
      "+-------------------+-------------------+--------+\n",
      "|1970-01-01 00:57:40|1970-01-01 00:12:51|     911|\n",
      "|1970-01-01 00:56:35|1970-01-01 00:49:56|    3201|\n",
      "|1970-01-01 00:45:49|1970-01-01 00:28:37|    2568|\n",
      "|1970-01-01 00:31:11|1970-01-01 00:47:24|     973|\n",
      "|1970-01-01 00:23:14|1970-01-01 00:29:58|     404|\n",
      "|1970-01-01 00:51:01|1970-01-01 00:24:48|    2027|\n",
      "|1970-01-01 00:49:29|1970-01-01 00:04:36|     907|\n",
      "|1970-01-01 00:46:38|1970-01-01 00:58:52|     734|\n",
      "|1970-01-01 00:37:08|1970-01-01 00:46:19|     551|\n",
      "|1970-01-01 00:35:39|1970-01-01 00:46:18|     639|\n",
      "|1970-01-01 00:46:33|1970-01-01 00:41:25|    3292|\n",
      "|1970-01-01 00:48:12|1970-01-01 00:41:10|    3178|\n",
      "|1970-01-01 00:52:56|1970-01-01 00:29:19|    2183|\n",
      "|1970-01-01 00:52:56|1970-01-01 00:29:07|    2171|\n",
      "|1970-01-01 00:35:24|1970-01-01 00:20:21|    2697|\n",
      "|1970-01-01 00:53:39|1970-01-01 00:19:23|    1544|\n",
      "|1970-01-01 00:54:41|1970-01-01 00:19:15|    1474|\n",
      "|1970-01-01 00:55:10|1970-01-01 00:18:27|    1397|\n",
      "|1970-01-01 00:52:50|1970-01-01 00:18:22|    1532|\n",
      "|1970-01-01 00:46:34|1970-01-01 00:06:51|    1217|\n",
      "+-------------------+-------------------+--------+\n",
      "only showing top 20 rows\n",
      "\n"
     ]
    }
   ],
   "source": [
    "\n",
    "from pyspark.sql.functions import *\n",
    "from pyspark.sql.types import TimestampType\n",
    "\n",
    "df = df.withColumn(\"starttime\", unix_timestamp(col(\"start_time\"), \"mm:ss.S\").cast(TimestampType()))\n",
    "df = df.withColumn(\"endtime\", unix_timestamp(col(\"end_time\"), \"mm:ss.S\").cast(TimestampType()))\n",
    "\n",
    "df = df.withColumn(\"duration\", expr(\"if(\\\n",
    "(unix_timestamp(endtime) - unix_timestamp(starttime)) >= 0, \\\n",
    "(unix_timestamp(endtime) - unix_timestamp(starttime)), \\\n",
    "(unix_timestamp(endtime) + 3600 - unix_timestamp(starttime)))\").cast(\"integer\"))\n",
    "df.select([\"starttime\",\"endtime\",\"duration\"]).show()\n"
   ]
  },
  {
   "cell_type": "markdown",
   "id": "c2ca7cf1",
   "metadata": {},
   "source": [
    "## 3-by assuming each minute cost 0.35 cent calculate the fee for each trip"
   ]
  },
  {
   "cell_type": "code",
   "execution_count": 70,
   "id": "6269ab12-24d9-4782-8d67-e4d4ab83b7f0",
   "metadata": {},
   "outputs": [
    {
     "name": "stdout",
     "output_type": "stream",
     "text": [
      "+---------------+-----------+\n",
      "|duration_second|fee_of_trip|\n",
      "+---------------+-----------+\n",
      "|             15|       5.25|\n",
      "|             53|      18.55|\n",
      "|             42|       14.7|\n",
      "|             16|        5.6|\n",
      "|              6|        2.1|\n",
      "|             33|      11.55|\n",
      "|             15|       5.25|\n",
      "|             12|        4.2|\n",
      "|              9|       3.15|\n",
      "|             10|        3.5|\n",
      "|             54|       18.9|\n",
      "|             52|       18.2|\n",
      "|             36|       12.6|\n",
      "|             36|       12.6|\n",
      "|             44|       15.4|\n",
      "|             25|       8.75|\n",
      "|             24|        8.4|\n",
      "|             23|       8.05|\n",
      "|             25|       8.75|\n",
      "|             20|        7.0|\n",
      "+---------------+-----------+\n",
      "only showing top 20 rows\n",
      "\n"
     ]
    }
   ],
   "source": [
    "\n",
    "df = df.withColumn(\"duration\", expr(\"if(\\\n",
    "(unix_timestamp(endtime) - unix_timestamp(starttime)) >= 0, \\\n",
    "(unix_timestamp(endtime) - unix_timestamp(starttime)), \\\n",
    "(unix_timestamp(endtime) + 3600 - unix_timestamp(starttime)))\").cast(\"timestamp\"))\n",
    "\n",
    "df = df.withColumn(\"duration_second\", minute(col(\"duration\")))\n",
    "df = df.withColumn(\"fee_of_trip\", bround(col(\"duration_second\") * 0.35, 2))\n",
    "df.select([\"duration_second\",\"fee_of_trip\"]).show()"
   ]
  },
  {
   "cell_type": "code",
   "execution_count": null,
   "id": "91824362-b2ba-4bc9-b664-84e368f932b3",
   "metadata": {},
   "outputs": [],
   "source": []
  }
 ],
 "metadata": {
  "kernelspec": {
   "display_name": "Python 3 (ipykernel)",
   "language": "python",
   "name": "python3"
  },
  "language_info": {
   "codemirror_mode": {
    "name": "ipython",
    "version": 3
   },
   "file_extension": ".py",
   "mimetype": "text/x-python",
   "name": "python",
   "nbconvert_exporter": "python",
   "pygments_lexer": "ipython3",
   "version": "3.9.15"
  }
 },
 "nbformat": 4,
 "nbformat_minor": 5
}
