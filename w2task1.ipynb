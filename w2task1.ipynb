{
  "nbformat": 4,
  "nbformat_minor": 0,
  "metadata": {
    "colab": {
      "provenance": []
    },
    "kernelspec": {
      "name": "python3",
      "display_name": "Python 3"
    },
    "language_info": {
      "name": "python"
    }
  },
  "cells": [
    {
      "cell_type": "code",
      "source": [
        "!pip install pyspark"
      ],
      "metadata": {
        "colab": {
          "base_uri": "https://localhost:8080/"
        },
        "id": "o27YAX4JHIjX",
        "outputId": "479b12b3-74e0-44e3-8874-b5bad2bcfe22"
      },
      "execution_count": 1,
      "outputs": [
        {
          "output_type": "stream",
          "name": "stdout",
          "text": [
            "Looking in indexes: https://pypi.org/simple, https://us-python.pkg.dev/colab-wheels/public/simple/\n",
            "Requirement already satisfied: pyspark in /usr/local/lib/python3.8/dist-packages (3.3.1)\n",
            "Requirement already satisfied: py4j==0.10.9.5 in /usr/local/lib/python3.8/dist-packages (from pyspark) (0.10.9.5)\n"
          ]
        }
      ]
    },
    {
      "cell_type": "code",
      "execution_count": 2,
      "metadata": {
        "id": "qElvYpX7GIUf"
      },
      "outputs": [],
      "source": [
        "import pyspark\n",
        "from pyspark.sql import SparkSession\n",
        "\n",
        "spark = SparkSession.builder.appName(\"bike\").getOrCreate()\n",
        "df = spark.read.option(\"header\",\"true\").csv(\"/content/drive/MyDrive/2017-fordgobike-tripdata.csv\")"
      ]
    },
    {
      "cell_type": "code",
      "source": [
        "!pip install haversine\n"
      ],
      "metadata": {
        "colab": {
          "base_uri": "https://localhost:8080/"
        },
        "id": "XmoQj0KrG-JE",
        "outputId": "2f1e2b8a-0732-440b-b96d-f17fa6913237"
      },
      "execution_count": 3,
      "outputs": [
        {
          "output_type": "stream",
          "name": "stdout",
          "text": [
            "Looking in indexes: https://pypi.org/simple, https://us-python.pkg.dev/colab-wheels/public/simple/\n",
            "Requirement already satisfied: haversine in /usr/local/lib/python3.8/dist-packages (2.7.0)\n"
          ]
        }
      ]
    },
    {
      "cell_type": "code",
      "source": [
        "from haversine import haversine, Unit\n",
        "\n",
        "haversine([45.7597, 4.8422], [48.8567, 2.3508])"
      ],
      "metadata": {
        "colab": {
          "base_uri": "https://localhost:8080/"
        },
        "id": "3vU5iCeuHx-4",
        "outputId": "efcd1379-b6ae-4507-8f8a-f684b7878f21"
      },
      "execution_count": 4,
      "outputs": [
        {
          "output_type": "execute_result",
          "data": {
            "text/plain": [
              "392.2172595594006"
            ]
          },
          "metadata": {},
          "execution_count": 4
        }
      ]
    },
    {
      "cell_type": "code",
      "source": [
        "import pyspark.pandas as ps\n",
        "\n",
        "def getDistance(start_lat, start_long, end_lat, end_long):\n",
        "    return round(\n",
        "        haversine(\n",
        "            [ float(start_lat), float(start_long) ],\n",
        "            [ float(end_lat), float(end_long) ],\n",
        "            unit=Unit.METERS\n",
        "        ), 2\n",
        "    )\n"
      ],
      "metadata": {
        "colab": {
          "base_uri": "https://localhost:8080/"
        },
        "id": "KJO5R5PXH3Cz",
        "outputId": "2bd1913a-74d8-492a-e236-82b552b7ddae"
      },
      "execution_count": 5,
      "outputs": [
        {
          "output_type": "stream",
          "name": "stderr",
          "text": [
            "WARNING:root:'PYARROW_IGNORE_TIMEZONE' environment variable was not set. It is required to set this environment variable to '1' in both driver and executor sides if you use pyarrow>=2.0.0. pandas-on-Spark will set it for you but it does not work if there is a Spark context already launched.\n"
          ]
        }
      ]
    },
    {
      "cell_type": "code",
      "source": [
        "from pyspark.sql.functions import udf\n",
        "\n",
        "getDistanceUDF = udf(lambda a,b,c,d : getDistance(a,b,c,d) )\n",
        "df = df.withColumn(\"Distance\", getDistanceUDF(df[\"start_station_latitude\"], df[\"start_station_longitude\"], df[\"end_station_latitude\"], df[\"end_station_longitude\"]))"
      ],
      "metadata": {
        "id": "I9k1IepKH5R0"
      },
      "execution_count": 6,
      "outputs": []
    },
    {
      "cell_type": "code",
      "source": [
        "df.printSchema()"
      ],
      "metadata": {
        "colab": {
          "base_uri": "https://localhost:8080/"
        },
        "id": "Dl3-hUF0Ws3Y",
        "outputId": "446269c9-6a6a-4124-e192-7a96bfe9339d"
      },
      "execution_count": 7,
      "outputs": [
        {
          "output_type": "stream",
          "name": "stdout",
          "text": [
            "root\n",
            " |-- start_time: string (nullable = true)\n",
            " |-- end_time: string (nullable = true)\n",
            " |-- start_station_id: string (nullable = true)\n",
            " |-- start_station_name: string (nullable = true)\n",
            " |-- start_station_latitude: string (nullable = true)\n",
            " |-- start_station_longitude: string (nullable = true)\n",
            " |-- end_station_id: string (nullable = true)\n",
            " |-- end_station_name: string (nullable = true)\n",
            " |-- end_station_latitude: string (nullable = true)\n",
            " |-- end_station_longitude: string (nullable = true)\n",
            " |-- bike_id: string (nullable = true)\n",
            " |-- user_type: string (nullable = true)\n",
            " |-- member_birth_year: string (nullable = true)\n",
            " |-- member_gender: string (nullable = true)\n",
            " |-- pyment: string (nullable = true)\n",
            " |-- Distance: string (nullable = true)\n",
            "\n"
          ]
        }
      ]
    },
    {
      "cell_type": "code",
      "source": [
        "df.select(\"Distance\").show()"
      ],
      "metadata": {
        "colab": {
          "base_uri": "https://localhost:8080/"
        },
        "id": "gISvJTf9W0aN",
        "outputId": "f9f57ede-1ba1-40e0-dad5-8b37610d5a2d"
      },
      "execution_count": 8,
      "outputs": [
        {
          "output_type": "stream",
          "name": "stdout",
          "text": [
            "+--------+\n",
            "|Distance|\n",
            "+--------+\n",
            "|  942.93|\n",
            "| 3069.73|\n",
            "|     0.0|\n",
            "| 1046.62|\n",
            "|  636.34|\n",
            "|     0.0|\n",
            "|     0.0|\n",
            "|     0.0|\n",
            "|     0.0|\n",
            "|     0.0|\n",
            "|   771.3|\n",
            "|   771.3|\n",
            "| 1517.35|\n",
            "| 1517.35|\n",
            "|  1422.6|\n",
            "| 1050.26|\n",
            "| 1050.26|\n",
            "| 2856.34|\n",
            "| 2856.34|\n",
            "| 2859.25|\n",
            "+--------+\n",
            "only showing top 20 rows\n",
            "\n"
          ]
        }
      ]
    },
    {
      "cell_type": "markdown",
      "source": [
        " # 1-calculate the total distance for each bike and list the top 10"
      ],
      "metadata": {
        "id": "y_N5VT3HIQJb"
      }
    },
    {
      "cell_type": "code",
      "source": [
        "from pyspark.sql.functions import round"
      ],
      "metadata": {
        "id": "3YKNCWR5Yagi"
      },
      "execution_count": 9,
      "outputs": []
    },
    {
      "cell_type": "code",
      "source": [
        "group_bike = df.groupBy(\"bike_id\").agg({'Distance' : \"sum\"})\\\n",
        "                .withColumnRenamed(\"sum(Distance)\", \"Total Distance\")\n",
        "group_bike = group_bike.withColumn(\"T_Distance\", round(group_bike[\"Total Distance\"],2))\n",
        "group_bike.show()"
      ],
      "metadata": {
        "colab": {
          "base_uri": "https://localhost:8080/"
        },
        "id": "fueoXc9wIcFU",
        "outputId": "efe1d8ed-f488-4cd3-b070-cbe95c39ba25"
      },
      "execution_count": 10,
      "outputs": [
        {
          "output_type": "stream",
          "name": "stdout",
          "text": [
            "+-------+------------------+----------+\n",
            "|bike_id|    Total Distance|T_Distance|\n",
            "+-------+------------------+----------+\n",
            "|   1159|207481.01999999996| 207481.02|\n",
            "|   3606|          15315.78|  15315.78|\n",
            "|   2904| 485315.9799999999| 485315.98|\n",
            "|   1090|         207034.56| 207034.56|\n",
            "|   2069| 427986.5600000002| 427986.56|\n",
            "|   1512|         214180.63| 214180.63|\n",
            "|   3414|          35948.43|  35948.43|\n",
            "|    467|195744.99999999994|  195745.0|\n",
            "|   2088|         377221.49| 377221.49|\n",
            "|   1572|238461.14999999997| 238461.15|\n",
            "|   3210| 98775.27000000002|  98775.27|\n",
            "|    296|254031.78999999998| 254031.79|\n",
            "|   1436|          91704.69|  91704.69|\n",
            "|    691|         152689.23| 152689.23|\n",
            "|   2136|449488.82000000007| 449488.82|\n",
            "|    829| 377199.6700000001| 377199.67|\n",
            "|   2162|239004.17999999996| 239004.18|\n",
            "|   3281|32268.640000000003|  32268.64|\n",
            "|   3650|36060.689999999995|  36060.69|\n",
            "|   3517|          11817.57|  11817.57|\n",
            "+-------+------------------+----------+\n",
            "only showing top 20 rows\n",
            "\n"
          ]
        }
      ]
    },
    {
      "cell_type": "code",
      "source": [
        "group_bike = group_bike.orderBy(group_bike[\"T_Distance\"].desc())\n",
        "group_bike_pd = group_bike.limit(10).toPandas()"
      ],
      "metadata": {
        "id": "SJ7YxPRXYcU9"
      },
      "execution_count": 22,
      "outputs": []
    },
    {
      "cell_type": "code",
      "source": [
        "import matplotlib.pyplot as plt\n",
        "\n",
        "group_bike_pd.plot(x='bike_id', y='T_Distance', kind='bar')\n",
        "plt.xlabel(\"Bike ID\")\n",
        "plt.ylabel(\"Total Distance (T_Distance)\")\n",
        "plt.title(\"Top 10 Bikes by Total Distance\")\n"
      ],
      "metadata": {
        "colab": {
          "base_uri": "https://localhost:8080/",
          "height": 328
        },
        "id": "0aH3VNAzZBfI",
        "outputId": "1f57e25e-09bc-4a91-e65f-436bfe1131f4"
      },
      "execution_count": 18,
      "outputs": [
        {
          "output_type": "execute_result",
          "data": {
            "text/plain": [
              "Text(0.5, 1.0, 'Top 10 Bikes by Total Distance')"
            ]
          },
          "metadata": {},
          "execution_count": 18
        },
        {
          "output_type": "display_data",
          "data": {
            "text/plain": [
              "<Figure size 432x288 with 1 Axes>"
            ],
            "image/png": "[encoded data removed]"
          },
          "metadata": {
            "needs_background": "light"
          }
        }
      ]
    },
    {
      "cell_type": "code",
      "source": [
        "group_bike_pd = group_bike_pd.sort_values(by='T_Distance', ascending=False)\n",
        "\n",
        "top_10 = group_bike_pd.head(10)\n",
        "\n",
        "print(\"Top 10 Bikes by Total Distance:\")\n",
        "print(top_10[['T_Distance']])"
      ],
      "metadata": {
        "colab": {
          "base_uri": "https://localhost:8080/"
        },
        "id": "h3g6NCUXZCGT",
        "outputId": "4cd91f49-9e92-4f7d-faf9-8946c545d403"
      },
      "execution_count": 23,
      "outputs": [
        {
          "output_type": "stream",
          "name": "stdout",
          "text": [
            "Top 10 Bikes by Total Distance:\n",
            "   T_Distance\n",
            "0   743369.39\n",
            "1   721182.22\n",
            "2   671916.00\n",
            "3   670162.09\n",
            "4   656828.08\n",
            "5   656642.33\n",
            "6   647823.24\n",
            "7   646867.81\n",
            "8   640294.24\n",
            "9   639412.80\n"
          ]
        }
      ]
    },
    {
      "cell_type": "code",
      "source": [],
      "metadata": {
        "id": "7Bj0_O-zbsqv"
      },
      "execution_count": null,
      "outputs": []
    }
  ]
}