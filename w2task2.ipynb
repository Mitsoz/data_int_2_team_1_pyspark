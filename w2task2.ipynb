{
 "cells": [
  {
   "cell_type": "code",
   "execution_count": 2,
   "id": "4e9728c2",
   "metadata": {},
   "outputs": [
    {
     "name": "stdout",
     "output_type": "stream",
     "text": [
      "23/02/07 17:38:16 WARN Utils: Your hostname, murats-MacBook-Air.local resolves to a loopback address: 127.0.0.1; using 192.168.68.109 instead (on interface en0)\n",
      "23/02/07 17:38:16 WARN Utils: Set SPARK_LOCAL_IP if you need to bind to another address\n"
     ]
    },
    {
     "name": "stderr",
     "output_type": "stream",
     "text": [
      "Setting default log level to \"WARN\".\n",
      "To adjust logging level use sc.setLogLevel(newLevel). For SparkR, use setLogLevel(newLevel).\n"
     ]
    },
    {
     "name": "stdout",
     "output_type": "stream",
     "text": [
      "23/02/07 17:38:17 WARN NativeCodeLoader: Unable to load native-hadoop library for your platform... using builtin-java classes where applicable\n",
      "23/02/07 17:38:18 WARN Utils: Service 'SparkUI' could not bind on port 4040. Attempting port 4041.\n"
     ]
    },
    {
     "name": "stderr",
     "output_type": "stream",
     "text": [
      "                                                                                \r"
     ]
    }
   ],
   "source": [
    "import pyspark\n",
    "from pyspark.sql import SparkSession\n",
    "\n",
    "spark = SparkSession.builder.appName(\"bike\").getOrCreate()\n",
    "df = spark.read.option(\"header\",\"true\").csv(\"2017-fordgobike-tripdata.csv\")"
   ]
  },
  {
   "cell_type": "markdown",
   "id": "5b300faa",
   "metadata": {},
   "source": [
    "<ul>\n",
    "<li>calculate the total distance for each bike and list the top 10</li>\n",
    "<li>calculate the number of trips for each start station list top 10 and find the ratio of using as male or female</li>\n",
    "<li>make a comparison to find the percentage of usage for customer and subscriber</li>\n",
    "<li>calculate the age of all users and show the relation between the distance and the age</li>\n",
    "</ul>"
   ]
  },
  {
   "cell_type": "code",
   "execution_count": 3,
   "id": "520337ee",
   "metadata": {},
   "outputs": [
    {
     "name": "stdout",
     "output_type": "stream",
     "text": [
      "root\n",
      " |-- start_time: string (nullable = true)\n",
      " |-- end_time: string (nullable = true)\n",
      " |-- start_station_id: string (nullable = true)\n",
      " |-- start_station_name: string (nullable = true)\n",
      " |-- start_station_latitude: string (nullable = true)\n",
      " |-- start_station_longitude: string (nullable = true)\n",
      " |-- end_station_id: string (nullable = true)\n",
      " |-- end_station_name: string (nullable = true)\n",
      " |-- end_station_latitude: string (nullable = true)\n",
      " |-- end_station_longitude: string (nullable = true)\n",
      " |-- bike_id: string (nullable = true)\n",
      " |-- user_type: string (nullable = true)\n",
      " |-- member_birth_year: string (nullable = true)\n",
      " |-- member_gender: string (nullable = true)\n",
      " |-- pyment: string (nullable = true)\n",
      "\n"
     ]
    }
   ],
   "source": [
    "df.printSchema()"
   ]
  },
  {
   "cell_type": "markdown",
   "id": "fd49c2ef",
   "metadata": {},
   "source": [
    "## calculate the number of trips for each start station list top 10 and find the ratio of using as male or female"
   ]
  },
  {
   "cell_type": "code",
   "execution_count": 4,
   "id": "6c31b90a",
   "metadata": {},
   "outputs": [
    {
     "name": "stderr",
     "output_type": "stream",
     "text": [
      "[Stage 1:=======>                                                   (1 + 7) / 8]\r"
     ]
    },
    {
     "name": "stdout",
     "output_type": "stream",
     "text": [
      "+----------------+-----+\n",
      "|start_station_id|count|\n",
      "+----------------+-----+\n",
      "|              15|15187|\n",
      "|               6|13664|\n",
      "|              30|12546|\n",
      "|              67|12055|\n",
      "|              58|11960|\n",
      "|              21|11334|\n",
      "|              81|10956|\n",
      "|               3|10142|\n",
      "|              22| 9926|\n",
      "|              16| 9347|\n",
      "+----------------+-----+\n",
      "only showing top 10 rows\n",
      "\n"
     ]
    },
    {
     "name": "stderr",
     "output_type": "stream",
     "text": [
      "\r",
      "                                                                                \r"
     ]
    }
   ],
   "source": [
    "#calculate the number of trips for each start station list top 10\n",
    "trips_number = df.groupBy(\"start_station_id\").count().orderBy(\"count\", ascending=False)\n",
    "trips_number.show(10)"
   ]
  },
  {
   "cell_type": "code",
   "execution_count": 5,
   "id": "a63ccccb",
   "metadata": {},
   "outputs": [
    {
     "name": "stderr",
     "output_type": "stream",
     "text": [
      "\r",
      "[Stage 4:>                                                          (0 + 8) / 8]\r"
     ]
    },
    {
     "name": "stdout",
     "output_type": "stream",
     "text": [
      "+-------------+\n",
      "|member_gender|\n",
      "+-------------+\n",
      "|         null|\n",
      "|       Female|\n",
      "|        Other|\n",
      "|         Male|\n",
      "+-------------+\n",
      "\n"
     ]
    },
    {
     "name": "stderr",
     "output_type": "stream",
     "text": [
      "\r",
      "                                                                                \r"
     ]
    }
   ],
   "source": [
    "#find the ratio of using as male or female\n",
    "df.select(\"member_gender\").distinct().show()"
   ]
  },
  {
   "cell_type": "code",
   "execution_count": 10,
   "id": "8923c7c1",
   "metadata": {},
   "outputs": [],
   "source": [
    "top10_stations = [row[0] for row in trips_number.collect()[:10]]\n",
    "topStationsDF = df.filter(\n",
    "    (df['start_station_id'].isin(top10_stations)) \n",
    "    & (df['member_gender'].isin([\"Female\", \"Male\"]))\n",
    ")\n",
    "#topStationsDF.show()"
   ]
  },
  {
   "cell_type": "code",
   "execution_count": 19,
   "id": "ca5fc19f",
   "metadata": {},
   "outputs": [
    {
     "name": "stdout",
     "output_type": "stream",
     "text": [
      "+----------------+------+----+----+\n",
      "|start_station_id|Female|Male|Rate|\n",
      "+----------------+------+----+----+\n",
      "|              15|  2819|8586|0.33|\n",
      "|               3|  1768|6070|0.29|\n",
      "|              30|  2035|9813|0.21|\n",
      "|              22|  1980|7512|0.26|\n",
      "|              16|  1740|6532|0.27|\n",
      "|               6|  1938|7444|0.26|\n",
      "|              58|  1870|9005|0.21|\n",
      "|              81|  2302|7773| 0.3|\n",
      "|              67|  2105|9409|0.22|\n",
      "|              21|  1631|8367|0.19|\n",
      "+----------------+------+----+----+\n",
      "\n"
     ]
    }
   ],
   "source": [
    "from pyspark.sql.functions import round\n",
    "\n",
    "byGender = topStationsDF.groupBy(\"start_station_id\").pivot(\"member_gender\").count()\n",
    "byGender = byGender.withColumn(\"Rate\", round(byGender[\"Female\"]/byGender[\"Male\"], 2))\n",
    "byGender.show()"
   ]
  },
  {
   "cell_type": "code",
   "execution_count": null,
   "id": "90cce90a",
   "metadata": {},
   "outputs": [],
   "source": []
  }
 ],
 "metadata": {
  "kernelspec": {
   "display_name": "Python 3 (ipykernel)",
   "language": "python",
   "name": "python3"
  },
  "language_info": {
   "codemirror_mode": {
    "name": "ipython",
    "version": 3
   },
   "file_extension": ".py",
   "mimetype": "text/x-python",
   "name": "python",
   "nbconvert_exporter": "python",
   "pygments_lexer": "ipython3",
   "version": "3.9.15"
  }
 },
 "nbformat": 4,
 "nbformat_minor": 5
}
