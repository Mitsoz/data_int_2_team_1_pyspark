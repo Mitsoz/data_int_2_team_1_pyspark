{
  "nbformat": 4,
  "nbformat_minor": 0,
  "metadata": {
    "colab": {
      "provenance": []
    },
    "kernelspec": {
      "name": "python3",
      "display_name": "Python 3"
    },
    "language_info": {
      "name": "python"
    }
  },
  "cells": [
    {
      "cell_type": "code",
      "source": [
        "!pip install PySpark"
      ],
      "metadata": {
        "colab": {
          "base_uri": "https://localhost:8080/"
        },
        "id": "vPPkMIDcVlPZ",
        "outputId": "723e43a6-fe72-414a-bbd7-ac864cce81f3"
      },
      "execution_count": 1,
      "outputs": [
        {
          "output_type": "stream",
          "name": "stdout",
          "text": [
            "Looking in indexes: https://pypi.org/simple, https://us-python.pkg.dev/colab-wheels/public/simple/\n",
            "Collecting PySpark\n",
            "  Downloading pyspark-3.3.1.tar.gz (281.4 MB)\n",
            "\u001b[2K     \u001b[90m━━━━━━━━━━━━━━━━━━━━━━━━━━━━━━━━━━━━━━━\u001b[0m \u001b[32m281.4/281.4 MB\u001b[0m \u001b[31m3.2 MB/s\u001b[0m eta \u001b[36m0:00:00\u001b[0m\n",
            "\u001b[?25h  Preparing metadata (setup.py) ... \u001b[?25l\u001b[?25hdone\n",
            "Collecting py4j==0.10.9.5\n",
            "  Downloading py4j-0.10.9.5-py2.py3-none-any.whl (199 kB)\n",
            "\u001b[2K     \u001b[90m━━━━━━━━━━━━━━━━━━━━━━━━━━━━━━━━━━━━━━\u001b[0m \u001b[32m199.7/199.7 KB\u001b[0m \u001b[31m13.1 MB/s\u001b[0m eta \u001b[36m0:00:00\u001b[0m\n",
            "\u001b[?25hBuilding wheels for collected packages: PySpark\n",
            "  Building wheel for PySpark (setup.py) ... \u001b[?25l\u001b[?25hdone\n",
            "  Created wheel for PySpark: filename=pyspark-3.3.1-py2.py3-none-any.whl size=281845512 sha256=a71f11a1faf5c2799a5a0a21427e3c6584bdbff056ccd2a7deb561e44153e7f1\n",
            "  Stored in directory: /root/.cache/pip/wheels/43/dc/11/ec201cd671da62fa9c5cc77078235e40722170ceba231d7598\n",
            "Successfully built PySpark\n",
            "Installing collected packages: py4j, PySpark\n",
            "Successfully installed PySpark-3.3.1 py4j-0.10.9.5\n"
          ]
        }
      ]
    },
    {
      "cell_type": "code",
      "source": [
        "import pyspark\n",
        "import pandas as pd\n",
        "from pyspark.sql import SparkSession\n",
        "from pyspark.sql.types import *\n",
        "from pyspark.sql.functions import *\n",
        "import matplotlib.pyplot as plt\n",
        "import pyspark.pandas as ps\n",
        "\n",
        "from google.colab import drive\n",
        "drive.mount('/content/gdrive')\n"
      ],
      "metadata": {
        "colab": {
          "base_uri": "https://localhost:8080/"
        },
        "id": "TzX0ILRpVANg",
        "outputId": "3635736e-c197-45f0-b433-4be63bc14a02"
      },
      "execution_count": 3,
      "outputs": [
        {
          "output_type": "stream",
          "name": "stdout",
          "text": [
            "Drive already mounted at /content/gdrive; to attempt to forcibly remount, call drive.mount(\"/content/gdrive\", force_remount=True).\n"
          ]
        }
      ]
    },
    {
      "cell_type": "code",
      "source": [
        "spark = SparkSession.builder.appName(\"bike\").getOrCreate()\n",
        "df = spark.read.option(\"header\",\"true\").csv(\"/content/gdrive/MyDrive/Colab Notebooks/2017-fordgobike-tripdata.csv\")"
      ],
      "metadata": {
        "id": "Ql2jVa4nWjXl"
      },
      "execution_count": 4,
      "outputs": []
    },
    {
      "cell_type": "code",
      "execution_count": 12,
      "metadata": {
        "colab": {
          "base_uri": "https://localhost:8080/"
        },
        "id": "Cns3ZfASUvqD",
        "outputId": "32e79c8e-858c-4a7b-f789-d9b90cd78e2e"
      },
      "outputs": [
        {
          "output_type": "stream",
          "name": "stdout",
          "text": [
            "+----------+------+----------+\n",
            "| user_type| count|percentage|\n",
            "+----------+------+----------+\n",
            "|Subscriber|409230|     78.74|\n",
            "|  Customer|110470|     21.26|\n",
            "+----------+------+----------+\n",
            "\n"
          ]
        }
      ],
      "source": [
        "g_df = df.groupBy(\"user_type\").agg({\"*\": \"count\"})\n",
        "g_df = g_df.withColumnRenamed(\"count(1)\", \"count\")\n",
        "t_count = df.count()\n",
        "g_df = g_df.withColumn(\"percentage\", round(g_df[\"count\"] / t_count * 100,2))\n",
        "g_df.show()"
      ]
    },
    {
      "cell_type": "code",
      "source": [
        "g_df.toPandas().plot(x='user_type', y='percentage', kind='bar')"
      ],
      "metadata": {
        "colab": {
          "base_uri": "https://localhost:8080/",
          "height": 340
        },
        "id": "vMfuLJsXVAVD",
        "outputId": "d4f0e4c5-9fc4-4c00-c4de-c1379513909a"
      },
      "execution_count": 8,
      "outputs": [
        {
          "output_type": "execute_result",
          "data": {
            "text/plain": [
              "<matplotlib.axes._subplots.AxesSubplot at 0x7f909cca1bb0>"
            ]
          },
          "metadata": {},
          "execution_count": 8
        },
        {
          "output_type": "display_data",
          "data": {
            "text/plain": [
              "<Figure size 432x288 with 1 Axes>"
            ],
            "image/png": "[encoded data removed]"
          },
          "metadata": {
            "needs_background": "light"
          }
        }
      ]
    }
  ]
}