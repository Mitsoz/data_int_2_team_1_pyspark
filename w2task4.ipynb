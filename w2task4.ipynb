{
 "cells": [
  {
   "cell_type": "code",
   "execution_count": null,
   "metadata": {},
   "outputs": [],
   "source": [
    "import pyspark\n",
    "import pandas as pd\n",
    "from pyspark.sql import SparkSession\n",
    "from pyspark.sql.types import *\n",
    "from pyspark.sql.functions import *\n",
    "import matplotlib.pyplot as plt\n",
    "import pyspark.pandas as ps\n",
    "\n",
    "spark = SparkSession.builder.appName(\"bike\").getOrCreate()\n",
    "df = spark.read.option(\"header\",\"true\").csv(\"2017-fordgobike-tripdata.csv\")"
   ]
  },
  {
   "cell_type": "code",
   "execution_count": null,
   "metadata": {},
   "outputs": [],
   "source": [
    "from haversine import haversine, Unit\n",
    "\n",
    "haversine([45.7597, 4.8422], [48.8567, 2.3508])"
   ]
  },
  {
   "cell_type": "code",
   "execution_count": null,
   "metadata": {},
   "outputs": [],
   "source": [
    "def getDistance(start_lat, start_long, end_lat, end_long):\n",
    "    return round(\n",
    "        haversine(\n",
    "            [ float(start_lat), float(start_long) ],\n",
    "            [ float(end_lat), float(end_long) ],\n",
    "            unit=Unit.METERS\n",
    "        ), 2\n",
    "    )"
   ]
  },
  {
   "cell_type": "code",
   "execution_count": null,
   "metadata": {},
   "outputs": [],
   "source": [
    "getDistanceUDF = udf(lambda a,b,c,d : getDistance(a,b,c,d), IntegerType() )\n",
    "df = df.withColumn(\"Distance\", getDistanceUDF(df[\"start_station_latitude\"], df[\"start_station_longitude\"], df[\"end_station_latitude\"], df[\"end_station_longitude\"]))"
   ]
  },
  {
   "cell_type": "markdown",
   "metadata": {},
   "source": [
    "# Task 4"
   ]
  },
  {
   "cell_type": "code",
   "execution_count": null,
   "metadata": {},
   "outputs": [],
   "source": [
    "df = df.withColumn(\"age\", year(current_date()) - year(col(\"member_birth_year\")))"
   ]
  },
  {
   "cell_type": "code",
   "execution_count": null,
   "metadata": {},
   "outputs": [],
   "source": [
    "df = df.dropna(subset=[\"age\", \"distance\"])"
   ]
  },
  {
   "cell_type": "code",
   "execution_count": null,
   "metadata": {},
   "outputs": [],
   "source": [
    "df_p = df.select([\"age\", \"distance\"])\n",
    "df_pt = df_p.toPandas()\n",
    "plt.scatter(df_pt[\"age\"], df_pt[\"distance\"], s=30)\n",
    "plt.xlabel(\"age\")\n",
    "plt.ylabel(\"distance\")\n",
    "plt.title(\"Age vs Distance\")\n",
    "plt.show()"
   ]
  }
 ],
 "metadata": {
  "kernelspec": {
   "display_name": "Python 3",
   "language": "python",
   "name": "python3"
  },
  "language_info": {
   "codemirror_mode": {
    "name": "ipython",
    "version": 3
   },
   "file_extension": ".py",
   "mimetype": "text/x-python",
   "name": "python",
   "nbconvert_exporter": "python",
   "pygments_lexer": "ipython3",
   "version": "3.7.6"
  }
 },
 "nbformat": 4,
 "nbformat_minor": 4
}
