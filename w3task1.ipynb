{
  "nbformat": 4,
  "nbformat_minor": 0,
  "metadata": {
    "colab": {
      "provenance": []
    },
    "kernelspec": {
      "name": "python3",
      "display_name": "Python 3"
    },
    "language_info": {
      "name": "python"
    }
  },
  "cells": [
    {
      "cell_type": "code",
      "execution_count": null,
      "metadata": {
        "colab": {
          "base_uri": "https://localhost:8080/"
        },
        "id": "X22Ba8Ect_G9",
        "outputId": "3020ceaa-87a2-432b-f3bb-4f2b0f8be706"
      },
      "outputs": [
        {
          "output_type": "stream",
          "name": "stdout",
          "text": [
            "Looking in indexes: https://pypi.org/simple, https://us-python.pkg.dev/colab-wheels/public/simple/\n",
            "Collecting PySpark\n",
            "  Downloading pyspark-3.3.1.tar.gz (281.4 MB)\n",
            "\u001b[2K     \u001b[90m━━━━━━━━━━━━━━━━━━━━━━━━━━━━━━━━━━━━━━━\u001b[0m \u001b[32m281.4/281.4 MB\u001b[0m \u001b[31m2.7 MB/s\u001b[0m eta \u001b[36m0:00:00\u001b[0m\n",
            "\u001b[?25h  Preparing metadata (setup.py) ... \u001b[?25l\u001b[?25hdone\n",
            "Collecting py4j==0.10.9.5\n",
            "  Downloading py4j-0.10.9.5-py2.py3-none-any.whl (199 kB)\n",
            "\u001b[2K     \u001b[90m━━━━━━━━━━━━━━━━━━━━━━━━━━━━━━━━━━━━━━━\u001b[0m \u001b[32m199.7/199.7 KB\u001b[0m \u001b[31m9.8 MB/s\u001b[0m eta \u001b[36m0:00:00\u001b[0m\n",
            "\u001b[?25hBuilding wheels for collected packages: PySpark\n",
            "  Building wheel for PySpark (setup.py) ... \u001b[?25l\u001b[?25hdone\n",
            "  Created wheel for PySpark: filename=pyspark-3.3.1-py2.py3-none-any.whl size=281845512 sha256=57285b18b5c971886bd3770dd7f04ee19b1cce1ff769ebd5f6ebb1c97aa19ac5\n",
            "  Stored in directory: /root/.cache/pip/wheels/43/dc/11/ec201cd671da62fa9c5cc77078235e40722170ceba231d7598\n",
            "Successfully built PySpark\n",
            "Installing collected packages: py4j, PySpark\n",
            "Successfully installed PySpark-3.3.1 py4j-0.10.9.5\n"
          ]
        }
      ],
      "source": [
        "!pip install PySpark"
      ]
    },
    {
      "cell_type": "code",
      "source": [
        "import pyspark\n",
        "import pandas as pd\n",
        "from pyspark.sql import SparkSession\n",
        "from pyspark.sql.types import *\n",
        "from pyspark.sql.functions import *\n",
        "import matplotlib.pyplot as plt\n",
        "import pyspark.pandas as ps\n",
        "\n",
        "from google.colab import drive\n",
        "drive.mount('/content/gdrive')\n"
      ],
      "metadata": {
        "colab": {
          "base_uri": "https://localhost:8080/"
        },
        "id": "AABLm4m2uxxK",
        "outputId": "9afca6af-2aaa-47f2-a33e-b2583a906473"
      },
      "execution_count": 19,
      "outputs": [
        {
          "output_type": "stream",
          "name": "stdout",
          "text": [
            "Drive already mounted at /content/gdrive; to attempt to forcibly remount, call drive.mount(\"/content/gdrive\", force_remount=True).\n"
          ]
        }
      ]
    },
    {
      "cell_type": "code",
      "source": [
        "spark = SparkSession.builder.appName(\"bike\").getOrCreate()\n",
        "df = spark.read.option(\"header\",\"true\").csv(\"/content/gdrive/MyDrive/Colab Notebooks/2017-fordgobike-tripdata.csv\")"
      ],
      "metadata": {
        "id": "spNSbI-xvZS-"
      },
      "execution_count": 20,
      "outputs": []
    },
    {
      "cell_type": "code",
      "source": [
        "df = df.withColumn(\"starttime\", unix_timestamp(col(\"start_time\"), \"mm:ss.S\").cast(TimestampType()))\n",
        "df = df.withColumn(\"endtime\", unix_timestamp(col(\"end_time\"), \"mm:ss.S\").cast(TimestampType()))\n",
        "\n",
        "df = df.withColumn(\"duration\", expr(\"if(\\\n",
        "(unix_timestamp(endtime) - unix_timestamp(starttime)) >= 0, \\\n",
        "(unix_timestamp(endtime) - unix_timestamp(starttime)), \\\n",
        "(unix_timestamp(endtime) + 3600 - unix_timestamp(starttime)))\").cast(\"integer\"))\n",
        "\n",
        "df = df.withColumn(\"duration\", expr(\"if(\\\n",
        "(unix_timestamp(endtime) - unix_timestamp(starttime)) >= 0, \\\n",
        "(unix_timestamp(endtime) - unix_timestamp(starttime)), \\\n",
        "(unix_timestamp(endtime) + 3600 - unix_timestamp(starttime)))\").cast(\"timestamp\"))\n",
        "\n",
        "df = df.withColumn(\"duration_second\", minute(col(\"duration\")))\n",
        "df = df.withColumn(\"fee_of_trip\", bround(col(\"duration_second\") * 0.35, 2))"
      ],
      "metadata": {
        "id": "jSUhe9q2vuEG"
      },
      "execution_count": 22,
      "outputs": []
    },
    {
      "cell_type": "code",
      "source": [
        "total_cost = df.groupBy(\"user_type\").agg({'fee_of_trip' : 'sum'}).withColumnRenamed(\"sum(fee_of_trip)\", \"Total Cost\")"
      ],
      "metadata": {
        "id": "orVw3zGowue_"
      },
      "execution_count": 29,
      "outputs": []
    },
    {
      "cell_type": "code",
      "source": [
        "total_cost = total_cost.withColumn(\"Total Cost\", round(total_cost[\"Total Cost\"], 2))\n",
        "total_cost.show()"
      ],
      "metadata": {
        "colab": {
          "base_uri": "https://localhost:8080/"
        },
        "id": "hV14f0LKyaCW",
        "outputId": "6010aebe-c127-4a1b-a041-4f339002a8eb"
      },
      "execution_count": 31,
      "outputs": [
        {
          "output_type": "stream",
          "name": "stdout",
          "text": [
            "+----------+----------+\n",
            "| user_type|Total Cost|\n",
            "+----------+----------+\n",
            "|Subscriber|1417162.95|\n",
            "|  Customer|  731636.5|\n",
            "+----------+----------+\n",
            "\n"
          ]
        }
      ]
    },
    {
      "cell_type": "code",
      "source": [
        "total_cost_pandas = total_cost.toPandas()"
      ],
      "metadata": {
        "id": "Twe1EdoW11oy"
      },
      "execution_count": 33,
      "outputs": []
    },
    {
      "cell_type": "code",
      "source": [
        "final_cost = total_cost_pandas.plot(kind='bar', x='user_type', y='Total Cost', legend=False)\n",
        "final_cost.set_xlabel(\"User Type\")\n",
        "final_cost.set_ylabel(\"Total Cost\")\n",
        "plt.show()"
      ],
      "metadata": {
        "colab": {
          "base_uri": "https://localhost:8080/",
          "height": 333
        },
        "id": "8IWZvHg72J6M",
        "outputId": "2d2239a0-5634-4493-f148-791adc014daa"
      },
      "execution_count": 34,
      "outputs": [
        {
          "output_type": "display_data",
          "data": {
            "text/plain": [
              "<Figure size 432x288 with 1 Axes>"
            ],
            "image/png": "[encoded data removed]"
          },
          "metadata": {
            "needs_background": "light"
          }
        }
      ]
    }
  ]
}